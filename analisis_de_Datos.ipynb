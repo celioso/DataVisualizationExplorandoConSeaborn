{
 "cells": [
  {
   "cell_type": "markdown",
   "metadata": {},
   "source": [
    "# Importando base de datos"
   ]
  },
  {
   "cell_type": "code",
   "execution_count": 42,
   "metadata": {},
   "outputs": [],
   "source": [
    "import pandas as pd"
   ]
  },
  {
   "cell_type": "code",
   "execution_count": 43,
   "metadata": {},
   "outputs": [
    {
     "data": {
      "text/html": [
       "<div>\n",
       "<style scoped>\n",
       "    .dataframe tbody tr th:only-of-type {\n",
       "        vertical-align: middle;\n",
       "    }\n",
       "\n",
       "    .dataframe tbody tr th {\n",
       "        vertical-align: top;\n",
       "    }\n",
       "\n",
       "    .dataframe thead th {\n",
       "        text-align: right;\n",
       "    }\n",
       "</style>\n",
       "<table border=\"1\" class=\"dataframe\">\n",
       "  <thead>\n",
       "    <tr style=\"text-align: right;\">\n",
       "      <th></th>\n",
       "      <th>LIMIT_BAL</th>\n",
       "      <th>CHECKING_ACCOUNT</th>\n",
       "      <th>EDUCATION</th>\n",
       "      <th>MARRIAGE</th>\n",
       "      <th>AGE</th>\n",
       "      <th>BILL_AMT</th>\n",
       "      <th>PAY_AMT</th>\n",
       "      <th>DEFAULT</th>\n",
       "    </tr>\n",
       "  </thead>\n",
       "  <tbody>\n",
       "    <tr>\n",
       "      <th>0</th>\n",
       "      <td>6022</td>\n",
       "      <td>Yes</td>\n",
       "      <td>2.University</td>\n",
       "      <td>Married</td>\n",
       "      <td>24</td>\n",
       "      <td>934.0122</td>\n",
       "      <td>0.0000</td>\n",
       "      <td>1</td>\n",
       "    </tr>\n",
       "    <tr>\n",
       "      <th>1</th>\n",
       "      <td>36132</td>\n",
       "      <td>Yes</td>\n",
       "      <td>2.University</td>\n",
       "      <td>Single</td>\n",
       "      <td>26</td>\n",
       "      <td>519.3975</td>\n",
       "      <td>0.0000</td>\n",
       "      <td>1</td>\n",
       "    </tr>\n",
       "    <tr>\n",
       "      <th>2</th>\n",
       "      <td>27099</td>\n",
       "      <td>Yes</td>\n",
       "      <td>2.University</td>\n",
       "      <td>Single</td>\n",
       "      <td>34</td>\n",
       "      <td>4223.5297</td>\n",
       "      <td>457.0698</td>\n",
       "      <td>0</td>\n",
       "    </tr>\n",
       "    <tr>\n",
       "      <th>3</th>\n",
       "      <td>15055</td>\n",
       "      <td>Yes</td>\n",
       "      <td>2.University</td>\n",
       "      <td>Married</td>\n",
       "      <td>37</td>\n",
       "      <td>14522.9563</td>\n",
       "      <td>602.2000</td>\n",
       "      <td>0</td>\n",
       "    </tr>\n",
       "    <tr>\n",
       "      <th>4</th>\n",
       "      <td>150550</td>\n",
       "      <td>No</td>\n",
       "      <td>3.Graduate School</td>\n",
       "      <td>Single</td>\n",
       "      <td>29</td>\n",
       "      <td>124060.1253</td>\n",
       "      <td>16560.5000</td>\n",
       "      <td>0</td>\n",
       "    </tr>\n",
       "    <tr>\n",
       "      <th>...</th>\n",
       "      <td>...</td>\n",
       "      <td>...</td>\n",
       "      <td>...</td>\n",
       "      <td>...</td>\n",
       "      <td>...</td>\n",
       "      <td>...</td>\n",
       "      <td>...</td>\n",
       "      <td>...</td>\n",
       "    </tr>\n",
       "    <tr>\n",
       "      <th>1495</th>\n",
       "      <td>54198</td>\n",
       "      <td>Yes</td>\n",
       "      <td>3.Graduate School</td>\n",
       "      <td>Single</td>\n",
       "      <td>27</td>\n",
       "      <td>295.0780</td>\n",
       "      <td>0.0000</td>\n",
       "      <td>1</td>\n",
       "    </tr>\n",
       "    <tr>\n",
       "      <th>1496</th>\n",
       "      <td>45165</td>\n",
       "      <td>No</td>\n",
       "      <td>2.University</td>\n",
       "      <td>Married</td>\n",
       "      <td>55</td>\n",
       "      <td>23637.8555</td>\n",
       "      <td>1144.1800</td>\n",
       "      <td>0</td>\n",
       "    </tr>\n",
       "    <tr>\n",
       "      <th>1497</th>\n",
       "      <td>78286</td>\n",
       "      <td>No</td>\n",
       "      <td>3.Graduate School</td>\n",
       "      <td>Single</td>\n",
       "      <td>34</td>\n",
       "      <td>962.9178</td>\n",
       "      <td>962.9178</td>\n",
       "      <td>0</td>\n",
       "    </tr>\n",
       "    <tr>\n",
       "      <th>1498</th>\n",
       "      <td>6022</td>\n",
       "      <td>No</td>\n",
       "      <td>2.University</td>\n",
       "      <td>Married</td>\n",
       "      <td>44</td>\n",
       "      <td>864.7592</td>\n",
       "      <td>864.7592</td>\n",
       "      <td>0</td>\n",
       "    </tr>\n",
       "    <tr>\n",
       "      <th>1499</th>\n",
       "      <td>183671</td>\n",
       "      <td>No</td>\n",
       "      <td>3.Graduate School</td>\n",
       "      <td>Single</td>\n",
       "      <td>31</td>\n",
       "      <td>97022.8508</td>\n",
       "      <td>97022.8508</td>\n",
       "      <td>0</td>\n",
       "    </tr>\n",
       "  </tbody>\n",
       "</table>\n",
       "<p>1500 rows × 8 columns</p>\n",
       "</div>"
      ],
      "text/plain": [
       "      LIMIT_BAL CHECKING_ACCOUNT          EDUCATION MARRIAGE  AGE  \\\n",
       "0          6022              Yes       2.University  Married   24   \n",
       "1         36132              Yes       2.University   Single   26   \n",
       "2         27099              Yes       2.University   Single   34   \n",
       "3         15055              Yes       2.University  Married   37   \n",
       "4        150550               No  3.Graduate School   Single   29   \n",
       "...         ...              ...                ...      ...  ...   \n",
       "1495      54198              Yes  3.Graduate School   Single   27   \n",
       "1496      45165               No       2.University  Married   55   \n",
       "1497      78286               No  3.Graduate School   Single   34   \n",
       "1498       6022               No       2.University  Married   44   \n",
       "1499     183671               No  3.Graduate School   Single   31   \n",
       "\n",
       "         BILL_AMT     PAY_AMT  DEFAULT  \n",
       "0        934.0122      0.0000        1  \n",
       "1        519.3975      0.0000        1  \n",
       "2       4223.5297    457.0698        0  \n",
       "3      14522.9563    602.2000        0  \n",
       "4     124060.1253  16560.5000        0  \n",
       "...           ...         ...      ...  \n",
       "1495     295.0780      0.0000        1  \n",
       "1496   23637.8555   1144.1800        0  \n",
       "1497     962.9178    962.9178        0  \n",
       "1498     864.7592    864.7592        0  \n",
       "1499   97022.8508  97022.8508        0  \n",
       "\n",
       "[1500 rows x 8 columns]"
      ]
     },
     "execution_count": 43,
     "metadata": {},
     "output_type": "execute_result"
    }
   ],
   "source": [
    "pd.read_csv(\"Data-Visualization-Explorando-con-Seaborn-aula1/credit_card.csv\")"
   ]
  },
  {
   "cell_type": "code",
   "execution_count": 44,
   "metadata": {},
   "outputs": [],
   "source": [
    "datos = pd.read_csv(\"Data-Visualization-Explorando-con-Seaborn-aula1/credit_card.csv\")"
   ]
  },
  {
   "cell_type": "code",
   "execution_count": 45,
   "metadata": {},
   "outputs": [
    {
     "data": {
      "text/html": [
       "<div>\n",
       "<style scoped>\n",
       "    .dataframe tbody tr th:only-of-type {\n",
       "        vertical-align: middle;\n",
       "    }\n",
       "\n",
       "    .dataframe tbody tr th {\n",
       "        vertical-align: top;\n",
       "    }\n",
       "\n",
       "    .dataframe thead th {\n",
       "        text-align: right;\n",
       "    }\n",
       "</style>\n",
       "<table border=\"1\" class=\"dataframe\">\n",
       "  <thead>\n",
       "    <tr style=\"text-align: right;\">\n",
       "      <th></th>\n",
       "      <th>LIMIT_BAL</th>\n",
       "      <th>CHECKING_ACCOUNT</th>\n",
       "      <th>EDUCATION</th>\n",
       "      <th>MARRIAGE</th>\n",
       "      <th>AGE</th>\n",
       "      <th>BILL_AMT</th>\n",
       "      <th>PAY_AMT</th>\n",
       "      <th>DEFAULT</th>\n",
       "    </tr>\n",
       "  </thead>\n",
       "  <tbody>\n",
       "    <tr>\n",
       "      <th>0</th>\n",
       "      <td>6022</td>\n",
       "      <td>Yes</td>\n",
       "      <td>2.University</td>\n",
       "      <td>Married</td>\n",
       "      <td>24</td>\n",
       "      <td>934.0122</td>\n",
       "      <td>0.0000</td>\n",
       "      <td>1</td>\n",
       "    </tr>\n",
       "    <tr>\n",
       "      <th>1</th>\n",
       "      <td>36132</td>\n",
       "      <td>Yes</td>\n",
       "      <td>2.University</td>\n",
       "      <td>Single</td>\n",
       "      <td>26</td>\n",
       "      <td>519.3975</td>\n",
       "      <td>0.0000</td>\n",
       "      <td>1</td>\n",
       "    </tr>\n",
       "    <tr>\n",
       "      <th>2</th>\n",
       "      <td>27099</td>\n",
       "      <td>Yes</td>\n",
       "      <td>2.University</td>\n",
       "      <td>Single</td>\n",
       "      <td>34</td>\n",
       "      <td>4223.5297</td>\n",
       "      <td>457.0698</td>\n",
       "      <td>0</td>\n",
       "    </tr>\n",
       "    <tr>\n",
       "      <th>3</th>\n",
       "      <td>15055</td>\n",
       "      <td>Yes</td>\n",
       "      <td>2.University</td>\n",
       "      <td>Married</td>\n",
       "      <td>37</td>\n",
       "      <td>14522.9563</td>\n",
       "      <td>602.2000</td>\n",
       "      <td>0</td>\n",
       "    </tr>\n",
       "    <tr>\n",
       "      <th>4</th>\n",
       "      <td>150550</td>\n",
       "      <td>No</td>\n",
       "      <td>3.Graduate School</td>\n",
       "      <td>Single</td>\n",
       "      <td>29</td>\n",
       "      <td>124060.1253</td>\n",
       "      <td>16560.5000</td>\n",
       "      <td>0</td>\n",
       "    </tr>\n",
       "    <tr>\n",
       "      <th>5</th>\n",
       "      <td>30110</td>\n",
       "      <td>Yes</td>\n",
       "      <td>2.University</td>\n",
       "      <td>Single</td>\n",
       "      <td>23</td>\n",
       "      <td>114.4180</td>\n",
       "      <td>114.4180</td>\n",
       "      <td>0</td>\n",
       "    </tr>\n",
       "    <tr>\n",
       "      <th>6</th>\n",
       "      <td>42154</td>\n",
       "      <td>Yes</td>\n",
       "      <td>1.High School</td>\n",
       "      <td>Married</td>\n",
       "      <td>28</td>\n",
       "      <td>4244.3056</td>\n",
       "      <td>1002.3619</td>\n",
       "      <td>0</td>\n",
       "    </tr>\n",
       "    <tr>\n",
       "      <th>7</th>\n",
       "      <td>60220</td>\n",
       "      <td>Yes</td>\n",
       "      <td>1.High School</td>\n",
       "      <td>Single</td>\n",
       "      <td>34</td>\n",
       "      <td>2946.8657</td>\n",
       "      <td>694.3366</td>\n",
       "      <td>0</td>\n",
       "    </tr>\n",
       "    <tr>\n",
       "      <th>8</th>\n",
       "      <td>78286</td>\n",
       "      <td>Yes</td>\n",
       "      <td>3.Graduate School</td>\n",
       "      <td>Single</td>\n",
       "      <td>51</td>\n",
       "      <td>6524.8370</td>\n",
       "      <td>6524.8370</td>\n",
       "      <td>0</td>\n",
       "    </tr>\n",
       "    <tr>\n",
       "      <th>9</th>\n",
       "      <td>189693</td>\n",
       "      <td>Yes</td>\n",
       "      <td>2.University</td>\n",
       "      <td>Single</td>\n",
       "      <td>41</td>\n",
       "      <td>1957.1500</td>\n",
       "      <td>301.1000</td>\n",
       "      <td>0</td>\n",
       "    </tr>\n",
       "  </tbody>\n",
       "</table>\n",
       "</div>"
      ],
      "text/plain": [
       "   LIMIT_BAL CHECKING_ACCOUNT          EDUCATION MARRIAGE  AGE     BILL_AMT  \\\n",
       "0       6022              Yes       2.University  Married   24     934.0122   \n",
       "1      36132              Yes       2.University   Single   26     519.3975   \n",
       "2      27099              Yes       2.University   Single   34    4223.5297   \n",
       "3      15055              Yes       2.University  Married   37   14522.9563   \n",
       "4     150550               No  3.Graduate School   Single   29  124060.1253   \n",
       "5      30110              Yes       2.University   Single   23     114.4180   \n",
       "6      42154              Yes      1.High School  Married   28    4244.3056   \n",
       "7      60220              Yes      1.High School   Single   34    2946.8657   \n",
       "8      78286              Yes  3.Graduate School   Single   51    6524.8370   \n",
       "9     189693              Yes       2.University   Single   41    1957.1500   \n",
       "\n",
       "      PAY_AMT  DEFAULT  \n",
       "0      0.0000        1  \n",
       "1      0.0000        1  \n",
       "2    457.0698        0  \n",
       "3    602.2000        0  \n",
       "4  16560.5000        0  \n",
       "5    114.4180        0  \n",
       "6   1002.3619        0  \n",
       "7    694.3366        0  \n",
       "8   6524.8370        0  \n",
       "9    301.1000        0  "
      ]
     },
     "execution_count": 45,
     "metadata": {},
     "output_type": "execute_result"
    }
   ],
   "source": [
    "datos.head(10)"
   ]
  },
  {
   "cell_type": "code",
   "execution_count": 46,
   "metadata": {},
   "outputs": [
    {
     "name": "stdout",
     "output_type": "stream",
     "text": [
      "<class 'pandas.core.frame.DataFrame'>\n",
      "RangeIndex: 1500 entries, 0 to 1499\n",
      "Data columns (total 8 columns):\n",
      " #   Column            Non-Null Count  Dtype  \n",
      "---  ------            --------------  -----  \n",
      " 0   LIMIT_BAL         1500 non-null   int64  \n",
      " 1   CHECKING_ACCOUNT  1500 non-null   object \n",
      " 2   EDUCATION         1500 non-null   object \n",
      " 3   MARRIAGE          1500 non-null   object \n",
      " 4   AGE               1500 non-null   int64  \n",
      " 5   BILL_AMT          1500 non-null   float64\n",
      " 6   PAY_AMT           1500 non-null   float64\n",
      " 7   DEFAULT           1500 non-null   int64  \n",
      "dtypes: float64(2), int64(3), object(3)\n",
      "memory usage: 93.9+ KB\n"
     ]
    }
   ],
   "source": [
    "datos.info()"
   ]
  },
  {
   "cell_type": "markdown",
   "metadata": {},
   "source": [
    "# Traduciendo Variables"
   ]
  },
  {
   "cell_type": "code",
   "execution_count": 47,
   "metadata": {},
   "outputs": [
    {
     "data": {
      "text/plain": [
       "Index(['LIMIT_BAL', 'CHECKING_ACCOUNT', 'EDUCATION', 'MARRIAGE', 'AGE',\n",
       "       'BILL_AMT', 'PAY_AMT', 'DEFAULT'],\n",
       "      dtype='object')"
      ]
     },
     "execution_count": 47,
     "metadata": {},
     "output_type": "execute_result"
    }
   ],
   "source": [
    "datos.columns"
   ]
  },
  {
   "cell_type": "code",
   "execution_count": 48,
   "metadata": {},
   "outputs": [],
   "source": [
    "dic_columnas = {\n",
    "    'LIMIT_BAL': 'limite', \n",
    "    'CHECKING_ACCOUNT':'cuenta_corriente', \n",
    "    'EDUCATION':'escolaridad', \n",
    "    'MARRIAGE':'estado_civil', \n",
    "    'AGE':'edad',\n",
    "    'BILL_AMT':'valor_factura', \n",
    "    'PAY_AMT':'valor_pago', \n",
    "    'DEFAULT':'moroso'\n",
    "}"
   ]
  },
  {
   "cell_type": "code",
   "execution_count": 49,
   "metadata": {},
   "outputs": [],
   "source": [
    "tarjetas = datos.rename(columns=dic_columnas)"
   ]
  },
  {
   "cell_type": "code",
   "execution_count": 50,
   "metadata": {},
   "outputs": [
    {
     "data": {
      "text/html": [
       "<div>\n",
       "<style scoped>\n",
       "    .dataframe tbody tr th:only-of-type {\n",
       "        vertical-align: middle;\n",
       "    }\n",
       "\n",
       "    .dataframe tbody tr th {\n",
       "        vertical-align: top;\n",
       "    }\n",
       "\n",
       "    .dataframe thead th {\n",
       "        text-align: right;\n",
       "    }\n",
       "</style>\n",
       "<table border=\"1\" class=\"dataframe\">\n",
       "  <thead>\n",
       "    <tr style=\"text-align: right;\">\n",
       "      <th></th>\n",
       "      <th>limite</th>\n",
       "      <th>cuenta_corriente</th>\n",
       "      <th>escolaridad</th>\n",
       "      <th>estado_civil</th>\n",
       "      <th>edad</th>\n",
       "      <th>valor_factura</th>\n",
       "      <th>valor_pago</th>\n",
       "      <th>moroso</th>\n",
       "    </tr>\n",
       "  </thead>\n",
       "  <tbody>\n",
       "    <tr>\n",
       "      <th>0</th>\n",
       "      <td>6022</td>\n",
       "      <td>Yes</td>\n",
       "      <td>2.University</td>\n",
       "      <td>Married</td>\n",
       "      <td>24</td>\n",
       "      <td>934.0122</td>\n",
       "      <td>0.0000</td>\n",
       "      <td>1</td>\n",
       "    </tr>\n",
       "    <tr>\n",
       "      <th>1</th>\n",
       "      <td>36132</td>\n",
       "      <td>Yes</td>\n",
       "      <td>2.University</td>\n",
       "      <td>Single</td>\n",
       "      <td>26</td>\n",
       "      <td>519.3975</td>\n",
       "      <td>0.0000</td>\n",
       "      <td>1</td>\n",
       "    </tr>\n",
       "    <tr>\n",
       "      <th>2</th>\n",
       "      <td>27099</td>\n",
       "      <td>Yes</td>\n",
       "      <td>2.University</td>\n",
       "      <td>Single</td>\n",
       "      <td>34</td>\n",
       "      <td>4223.5297</td>\n",
       "      <td>457.0698</td>\n",
       "      <td>0</td>\n",
       "    </tr>\n",
       "    <tr>\n",
       "      <th>3</th>\n",
       "      <td>15055</td>\n",
       "      <td>Yes</td>\n",
       "      <td>2.University</td>\n",
       "      <td>Married</td>\n",
       "      <td>37</td>\n",
       "      <td>14522.9563</td>\n",
       "      <td>602.2000</td>\n",
       "      <td>0</td>\n",
       "    </tr>\n",
       "    <tr>\n",
       "      <th>4</th>\n",
       "      <td>150550</td>\n",
       "      <td>No</td>\n",
       "      <td>3.Graduate School</td>\n",
       "      <td>Single</td>\n",
       "      <td>29</td>\n",
       "      <td>124060.1253</td>\n",
       "      <td>16560.5000</td>\n",
       "      <td>0</td>\n",
       "    </tr>\n",
       "  </tbody>\n",
       "</table>\n",
       "</div>"
      ],
      "text/plain": [
       "   limite cuenta_corriente        escolaridad estado_civil  edad  \\\n",
       "0    6022              Yes       2.University      Married    24   \n",
       "1   36132              Yes       2.University       Single    26   \n",
       "2   27099              Yes       2.University       Single    34   \n",
       "3   15055              Yes       2.University      Married    37   \n",
       "4  150550               No  3.Graduate School       Single    29   \n",
       "\n",
       "   valor_factura  valor_pago  moroso  \n",
       "0       934.0122      0.0000       1  \n",
       "1       519.3975      0.0000       1  \n",
       "2      4223.5297    457.0698       0  \n",
       "3     14522.9563    602.2000       0  \n",
       "4    124060.1253  16560.5000       0  "
      ]
     },
     "execution_count": 50,
     "metadata": {},
     "output_type": "execute_result"
    }
   ],
   "source": [
    "tarjetas.head()"
   ]
  },
  {
   "cell_type": "code",
   "execution_count": 51,
   "metadata": {},
   "outputs": [
    {
     "data": {
      "text/plain": [
       "array(['Yes', 'No'], dtype=object)"
      ]
     },
     "execution_count": 51,
     "metadata": {},
     "output_type": "execute_result"
    }
   ],
   "source": [
    "tarjetas.cuenta_corriente.unique()"
   ]
  },
  {
   "cell_type": "code",
   "execution_count": 52,
   "metadata": {},
   "outputs": [],
   "source": [
    "dic_cuenta = {\n",
    "   'Yes':'si', \n",
    "   'No':'No' \n",
    "}"
   ]
  },
  {
   "cell_type": "code",
   "execution_count": 53,
   "metadata": {},
   "outputs": [
    {
     "data": {
      "text/plain": [
       "0       si\n",
       "1       si\n",
       "2       si\n",
       "3       si\n",
       "4       No\n",
       "        ..\n",
       "1495    si\n",
       "1496    No\n",
       "1497    No\n",
       "1498    No\n",
       "1499    No\n",
       "Name: cuenta_corriente, Length: 1500, dtype: object"
      ]
     },
     "execution_count": 53,
     "metadata": {},
     "output_type": "execute_result"
    }
   ],
   "source": [
    "tarjetas.cuenta_corriente.map(dic_cuenta)"
   ]
  },
  {
   "cell_type": "code",
   "execution_count": 54,
   "metadata": {},
   "outputs": [
    {
     "data": {
      "text/html": [
       "<div>\n",
       "<style scoped>\n",
       "    .dataframe tbody tr th:only-of-type {\n",
       "        vertical-align: middle;\n",
       "    }\n",
       "\n",
       "    .dataframe tbody tr th {\n",
       "        vertical-align: top;\n",
       "    }\n",
       "\n",
       "    .dataframe thead th {\n",
       "        text-align: right;\n",
       "    }\n",
       "</style>\n",
       "<table border=\"1\" class=\"dataframe\">\n",
       "  <thead>\n",
       "    <tr style=\"text-align: right;\">\n",
       "      <th></th>\n",
       "      <th>limite</th>\n",
       "      <th>cuenta_corriente</th>\n",
       "      <th>escolaridad</th>\n",
       "      <th>estado_civil</th>\n",
       "      <th>edad</th>\n",
       "      <th>valor_factura</th>\n",
       "      <th>valor_pago</th>\n",
       "      <th>moroso</th>\n",
       "    </tr>\n",
       "  </thead>\n",
       "  <tbody>\n",
       "    <tr>\n",
       "      <th>0</th>\n",
       "      <td>6022</td>\n",
       "      <td>Yes</td>\n",
       "      <td>2.University</td>\n",
       "      <td>Married</td>\n",
       "      <td>24</td>\n",
       "      <td>934.0122</td>\n",
       "      <td>0.0000</td>\n",
       "      <td>1</td>\n",
       "    </tr>\n",
       "    <tr>\n",
       "      <th>1</th>\n",
       "      <td>36132</td>\n",
       "      <td>Yes</td>\n",
       "      <td>2.University</td>\n",
       "      <td>Single</td>\n",
       "      <td>26</td>\n",
       "      <td>519.3975</td>\n",
       "      <td>0.0000</td>\n",
       "      <td>1</td>\n",
       "    </tr>\n",
       "    <tr>\n",
       "      <th>2</th>\n",
       "      <td>27099</td>\n",
       "      <td>Yes</td>\n",
       "      <td>2.University</td>\n",
       "      <td>Single</td>\n",
       "      <td>34</td>\n",
       "      <td>4223.5297</td>\n",
       "      <td>457.0698</td>\n",
       "      <td>0</td>\n",
       "    </tr>\n",
       "    <tr>\n",
       "      <th>3</th>\n",
       "      <td>15055</td>\n",
       "      <td>Yes</td>\n",
       "      <td>2.University</td>\n",
       "      <td>Married</td>\n",
       "      <td>37</td>\n",
       "      <td>14522.9563</td>\n",
       "      <td>602.2000</td>\n",
       "      <td>0</td>\n",
       "    </tr>\n",
       "    <tr>\n",
       "      <th>4</th>\n",
       "      <td>150550</td>\n",
       "      <td>No</td>\n",
       "      <td>3.Graduate School</td>\n",
       "      <td>Single</td>\n",
       "      <td>29</td>\n",
       "      <td>124060.1253</td>\n",
       "      <td>16560.5000</td>\n",
       "      <td>0</td>\n",
       "    </tr>\n",
       "  </tbody>\n",
       "</table>\n",
       "</div>"
      ],
      "text/plain": [
       "   limite cuenta_corriente        escolaridad estado_civil  edad  \\\n",
       "0    6022              Yes       2.University      Married    24   \n",
       "1   36132              Yes       2.University       Single    26   \n",
       "2   27099              Yes       2.University       Single    34   \n",
       "3   15055              Yes       2.University      Married    37   \n",
       "4  150550               No  3.Graduate School       Single    29   \n",
       "\n",
       "   valor_factura  valor_pago  moroso  \n",
       "0       934.0122      0.0000       1  \n",
       "1       519.3975      0.0000       1  \n",
       "2      4223.5297    457.0698       0  \n",
       "3     14522.9563    602.2000       0  \n",
       "4    124060.1253  16560.5000       0  "
      ]
     },
     "execution_count": 54,
     "metadata": {},
     "output_type": "execute_result"
    }
   ],
   "source": [
    "tarjetas.head()"
   ]
  },
  {
   "cell_type": "code",
   "execution_count": 55,
   "metadata": {},
   "outputs": [],
   "source": [
    "tarjetas.cuenta_corriente = tarjetas.cuenta_corriente.map(dic_cuenta)"
   ]
  },
  {
   "cell_type": "code",
   "execution_count": 56,
   "metadata": {},
   "outputs": [
    {
     "data": {
      "text/html": [
       "<div>\n",
       "<style scoped>\n",
       "    .dataframe tbody tr th:only-of-type {\n",
       "        vertical-align: middle;\n",
       "    }\n",
       "\n",
       "    .dataframe tbody tr th {\n",
       "        vertical-align: top;\n",
       "    }\n",
       "\n",
       "    .dataframe thead th {\n",
       "        text-align: right;\n",
       "    }\n",
       "</style>\n",
       "<table border=\"1\" class=\"dataframe\">\n",
       "  <thead>\n",
       "    <tr style=\"text-align: right;\">\n",
       "      <th></th>\n",
       "      <th>limite</th>\n",
       "      <th>cuenta_corriente</th>\n",
       "      <th>escolaridad</th>\n",
       "      <th>estado_civil</th>\n",
       "      <th>edad</th>\n",
       "      <th>valor_factura</th>\n",
       "      <th>valor_pago</th>\n",
       "      <th>moroso</th>\n",
       "    </tr>\n",
       "  </thead>\n",
       "  <tbody>\n",
       "    <tr>\n",
       "      <th>0</th>\n",
       "      <td>6022</td>\n",
       "      <td>si</td>\n",
       "      <td>2.University</td>\n",
       "      <td>Married</td>\n",
       "      <td>24</td>\n",
       "      <td>934.0122</td>\n",
       "      <td>0.0000</td>\n",
       "      <td>1</td>\n",
       "    </tr>\n",
       "    <tr>\n",
       "      <th>1</th>\n",
       "      <td>36132</td>\n",
       "      <td>si</td>\n",
       "      <td>2.University</td>\n",
       "      <td>Single</td>\n",
       "      <td>26</td>\n",
       "      <td>519.3975</td>\n",
       "      <td>0.0000</td>\n",
       "      <td>1</td>\n",
       "    </tr>\n",
       "    <tr>\n",
       "      <th>2</th>\n",
       "      <td>27099</td>\n",
       "      <td>si</td>\n",
       "      <td>2.University</td>\n",
       "      <td>Single</td>\n",
       "      <td>34</td>\n",
       "      <td>4223.5297</td>\n",
       "      <td>457.0698</td>\n",
       "      <td>0</td>\n",
       "    </tr>\n",
       "    <tr>\n",
       "      <th>3</th>\n",
       "      <td>15055</td>\n",
       "      <td>si</td>\n",
       "      <td>2.University</td>\n",
       "      <td>Married</td>\n",
       "      <td>37</td>\n",
       "      <td>14522.9563</td>\n",
       "      <td>602.2000</td>\n",
       "      <td>0</td>\n",
       "    </tr>\n",
       "    <tr>\n",
       "      <th>4</th>\n",
       "      <td>150550</td>\n",
       "      <td>No</td>\n",
       "      <td>3.Graduate School</td>\n",
       "      <td>Single</td>\n",
       "      <td>29</td>\n",
       "      <td>124060.1253</td>\n",
       "      <td>16560.5000</td>\n",
       "      <td>0</td>\n",
       "    </tr>\n",
       "  </tbody>\n",
       "</table>\n",
       "</div>"
      ],
      "text/plain": [
       "   limite cuenta_corriente        escolaridad estado_civil  edad  \\\n",
       "0    6022               si       2.University      Married    24   \n",
       "1   36132               si       2.University       Single    26   \n",
       "2   27099               si       2.University       Single    34   \n",
       "3   15055               si       2.University      Married    37   \n",
       "4  150550               No  3.Graduate School       Single    29   \n",
       "\n",
       "   valor_factura  valor_pago  moroso  \n",
       "0       934.0122      0.0000       1  \n",
       "1       519.3975      0.0000       1  \n",
       "2      4223.5297    457.0698       0  \n",
       "3     14522.9563    602.2000       0  \n",
       "4    124060.1253  16560.5000       0  "
      ]
     },
     "execution_count": 56,
     "metadata": {},
     "output_type": "execute_result"
    }
   ],
   "source": [
    "tarjetas.head()"
   ]
  },
  {
   "cell_type": "code",
   "execution_count": 57,
   "metadata": {},
   "outputs": [
    {
     "data": {
      "text/plain": [
       "array(['2.University', '3.Graduate School', '1.High School'], dtype=object)"
      ]
     },
     "execution_count": 57,
     "metadata": {},
     "output_type": "execute_result"
    }
   ],
   "source": [
    "tarjetas.escolaridad.unique()"
   ]
  },
  {
   "cell_type": "code",
   "execution_count": 58,
   "metadata": {},
   "outputs": [],
   "source": [
    "dic_escolaridad = {\n",
    "    '2.University':'2.Universida', \n",
    "    '3.Graduate School':'3.Pos-graduacion', \n",
    "    '1.High School':'1.colegio'\n",
    "}"
   ]
  },
  {
   "cell_type": "code",
   "execution_count": 59,
   "metadata": {},
   "outputs": [],
   "source": [
    "tarjetas.escolaridad = tarjetas.escolaridad.map(dic_escolaridad)"
   ]
  },
  {
   "cell_type": "code",
   "execution_count": 60,
   "metadata": {},
   "outputs": [
    {
     "data": {
      "text/html": [
       "<div>\n",
       "<style scoped>\n",
       "    .dataframe tbody tr th:only-of-type {\n",
       "        vertical-align: middle;\n",
       "    }\n",
       "\n",
       "    .dataframe tbody tr th {\n",
       "        vertical-align: top;\n",
       "    }\n",
       "\n",
       "    .dataframe thead th {\n",
       "        text-align: right;\n",
       "    }\n",
       "</style>\n",
       "<table border=\"1\" class=\"dataframe\">\n",
       "  <thead>\n",
       "    <tr style=\"text-align: right;\">\n",
       "      <th></th>\n",
       "      <th>limite</th>\n",
       "      <th>cuenta_corriente</th>\n",
       "      <th>escolaridad</th>\n",
       "      <th>estado_civil</th>\n",
       "      <th>edad</th>\n",
       "      <th>valor_factura</th>\n",
       "      <th>valor_pago</th>\n",
       "      <th>moroso</th>\n",
       "    </tr>\n",
       "  </thead>\n",
       "  <tbody>\n",
       "    <tr>\n",
       "      <th>0</th>\n",
       "      <td>6022</td>\n",
       "      <td>si</td>\n",
       "      <td>2.Universida</td>\n",
       "      <td>Married</td>\n",
       "      <td>24</td>\n",
       "      <td>934.0122</td>\n",
       "      <td>0.0000</td>\n",
       "      <td>1</td>\n",
       "    </tr>\n",
       "    <tr>\n",
       "      <th>1</th>\n",
       "      <td>36132</td>\n",
       "      <td>si</td>\n",
       "      <td>2.Universida</td>\n",
       "      <td>Single</td>\n",
       "      <td>26</td>\n",
       "      <td>519.3975</td>\n",
       "      <td>0.0000</td>\n",
       "      <td>1</td>\n",
       "    </tr>\n",
       "    <tr>\n",
       "      <th>2</th>\n",
       "      <td>27099</td>\n",
       "      <td>si</td>\n",
       "      <td>2.Universida</td>\n",
       "      <td>Single</td>\n",
       "      <td>34</td>\n",
       "      <td>4223.5297</td>\n",
       "      <td>457.0698</td>\n",
       "      <td>0</td>\n",
       "    </tr>\n",
       "    <tr>\n",
       "      <th>3</th>\n",
       "      <td>15055</td>\n",
       "      <td>si</td>\n",
       "      <td>2.Universida</td>\n",
       "      <td>Married</td>\n",
       "      <td>37</td>\n",
       "      <td>14522.9563</td>\n",
       "      <td>602.2000</td>\n",
       "      <td>0</td>\n",
       "    </tr>\n",
       "    <tr>\n",
       "      <th>4</th>\n",
       "      <td>150550</td>\n",
       "      <td>No</td>\n",
       "      <td>3.Pos-graduacion</td>\n",
       "      <td>Single</td>\n",
       "      <td>29</td>\n",
       "      <td>124060.1253</td>\n",
       "      <td>16560.5000</td>\n",
       "      <td>0</td>\n",
       "    </tr>\n",
       "  </tbody>\n",
       "</table>\n",
       "</div>"
      ],
      "text/plain": [
       "   limite cuenta_corriente       escolaridad estado_civil  edad  \\\n",
       "0    6022               si      2.Universida      Married    24   \n",
       "1   36132               si      2.Universida       Single    26   \n",
       "2   27099               si      2.Universida       Single    34   \n",
       "3   15055               si      2.Universida      Married    37   \n",
       "4  150550               No  3.Pos-graduacion       Single    29   \n",
       "\n",
       "   valor_factura  valor_pago  moroso  \n",
       "0       934.0122      0.0000       1  \n",
       "1       519.3975      0.0000       1  \n",
       "2      4223.5297    457.0698       0  \n",
       "3     14522.9563    602.2000       0  \n",
       "4    124060.1253  16560.5000       0  "
      ]
     },
     "execution_count": 60,
     "metadata": {},
     "output_type": "execute_result"
    }
   ],
   "source": [
    "tarjetas.head()"
   ]
  },
  {
   "cell_type": "code",
   "execution_count": 61,
   "metadata": {},
   "outputs": [
    {
     "data": {
      "text/plain": [
       "array(['Married', 'Single'], dtype=object)"
      ]
     },
     "execution_count": 61,
     "metadata": {},
     "output_type": "execute_result"
    }
   ],
   "source": [
    "tarjetas.estado_civil.unique()"
   ]
  },
  {
   "cell_type": "code",
   "execution_count": 62,
   "metadata": {},
   "outputs": [],
   "source": [
    "dic_estado_civil = {\n",
    "    'Married':'Casado/a', \n",
    "    'Single':'Soltero/a'\n",
    "}"
   ]
  },
  {
   "cell_type": "code",
   "execution_count": 63,
   "metadata": {},
   "outputs": [],
   "source": [
    "tarjetas.estado_civil = tarjetas.estado_civil.map(dic_estado_civil)"
   ]
  },
  {
   "cell_type": "code",
   "execution_count": 64,
   "metadata": {},
   "outputs": [
    {
     "data": {
      "text/html": [
       "<div>\n",
       "<style scoped>\n",
       "    .dataframe tbody tr th:only-of-type {\n",
       "        vertical-align: middle;\n",
       "    }\n",
       "\n",
       "    .dataframe tbody tr th {\n",
       "        vertical-align: top;\n",
       "    }\n",
       "\n",
       "    .dataframe thead th {\n",
       "        text-align: right;\n",
       "    }\n",
       "</style>\n",
       "<table border=\"1\" class=\"dataframe\">\n",
       "  <thead>\n",
       "    <tr style=\"text-align: right;\">\n",
       "      <th></th>\n",
       "      <th>limite</th>\n",
       "      <th>cuenta_corriente</th>\n",
       "      <th>escolaridad</th>\n",
       "      <th>estado_civil</th>\n",
       "      <th>edad</th>\n",
       "      <th>valor_factura</th>\n",
       "      <th>valor_pago</th>\n",
       "      <th>moroso</th>\n",
       "    </tr>\n",
       "  </thead>\n",
       "  <tbody>\n",
       "    <tr>\n",
       "      <th>0</th>\n",
       "      <td>6022</td>\n",
       "      <td>si</td>\n",
       "      <td>2.Universida</td>\n",
       "      <td>Casado/a</td>\n",
       "      <td>24</td>\n",
       "      <td>934.0122</td>\n",
       "      <td>0.0000</td>\n",
       "      <td>1</td>\n",
       "    </tr>\n",
       "    <tr>\n",
       "      <th>1</th>\n",
       "      <td>36132</td>\n",
       "      <td>si</td>\n",
       "      <td>2.Universida</td>\n",
       "      <td>Soltero/a</td>\n",
       "      <td>26</td>\n",
       "      <td>519.3975</td>\n",
       "      <td>0.0000</td>\n",
       "      <td>1</td>\n",
       "    </tr>\n",
       "    <tr>\n",
       "      <th>2</th>\n",
       "      <td>27099</td>\n",
       "      <td>si</td>\n",
       "      <td>2.Universida</td>\n",
       "      <td>Soltero/a</td>\n",
       "      <td>34</td>\n",
       "      <td>4223.5297</td>\n",
       "      <td>457.0698</td>\n",
       "      <td>0</td>\n",
       "    </tr>\n",
       "    <tr>\n",
       "      <th>3</th>\n",
       "      <td>15055</td>\n",
       "      <td>si</td>\n",
       "      <td>2.Universida</td>\n",
       "      <td>Casado/a</td>\n",
       "      <td>37</td>\n",
       "      <td>14522.9563</td>\n",
       "      <td>602.2000</td>\n",
       "      <td>0</td>\n",
       "    </tr>\n",
       "    <tr>\n",
       "      <th>4</th>\n",
       "      <td>150550</td>\n",
       "      <td>No</td>\n",
       "      <td>3.Pos-graduacion</td>\n",
       "      <td>Soltero/a</td>\n",
       "      <td>29</td>\n",
       "      <td>124060.1253</td>\n",
       "      <td>16560.5000</td>\n",
       "      <td>0</td>\n",
       "    </tr>\n",
       "  </tbody>\n",
       "</table>\n",
       "</div>"
      ],
      "text/plain": [
       "   limite cuenta_corriente       escolaridad estado_civil  edad  \\\n",
       "0    6022               si      2.Universida     Casado/a    24   \n",
       "1   36132               si      2.Universida    Soltero/a    26   \n",
       "2   27099               si      2.Universida    Soltero/a    34   \n",
       "3   15055               si      2.Universida     Casado/a    37   \n",
       "4  150550               No  3.Pos-graduacion    Soltero/a    29   \n",
       "\n",
       "   valor_factura  valor_pago  moroso  \n",
       "0       934.0122      0.0000       1  \n",
       "1       519.3975      0.0000       1  \n",
       "2      4223.5297    457.0698       0  \n",
       "3     14522.9563    602.2000       0  \n",
       "4    124060.1253  16560.5000       0  "
      ]
     },
     "execution_count": 64,
     "metadata": {},
     "output_type": "execute_result"
    }
   ],
   "source": [
    "tarjetas.head()"
   ]
  },
  {
   "cell_type": "code",
   "execution_count": 65,
   "metadata": {},
   "outputs": [
    {
     "name": "stdout",
     "output_type": "stream",
     "text": [
      "Defaulting to user installation because normal site-packages is not writeable\n",
      "Requirement already satisfied: seaborn in /home/celis/.local/lib/python3.11/site-packages (0.13.0)\n",
      "Requirement already satisfied: matplotlib!=3.6.1,>=3.3 in /home/celis/.local/lib/python3.11/site-packages (from seaborn) (3.8.0)\n",
      "Requirement already satisfied: pandas>=1.2 in /home/celis/.local/lib/python3.11/site-packages (from seaborn) (2.1.1)\n",
      "Requirement already satisfied: numpy!=1.24.0,>=1.20 in /home/celis/.local/lib/python3.11/site-packages (from seaborn) (1.26.1)\n",
      "Requirement already satisfied: kiwisolver>=1.0.1 in /home/celis/.local/lib/python3.11/site-packages (from matplotlib!=3.6.1,>=3.3->seaborn) (1.4.5)\n",
      "Requirement already satisfied: packaging>=20.0 in /home/celis/.local/lib/python3.11/site-packages (from matplotlib!=3.6.1,>=3.3->seaborn) (23.2)\n",
      "Requirement already satisfied: pillow>=6.2.0 in /home/celis/.local/lib/python3.11/site-packages (from matplotlib!=3.6.1,>=3.3->seaborn) (10.1.0)\n",
      "Requirement already satisfied: cycler>=0.10 in /home/celis/.local/lib/python3.11/site-packages (from matplotlib!=3.6.1,>=3.3->seaborn) (0.12.1)\n",
      "Requirement already satisfied: contourpy>=1.0.1 in /home/celis/.local/lib/python3.11/site-packages (from matplotlib!=3.6.1,>=3.3->seaborn) (1.1.1)\n",
      "Requirement already satisfied: pyparsing>=2.3.1 in /usr/lib/python3/dist-packages (from matplotlib!=3.6.1,>=3.3->seaborn) (2.4.7)\n",
      "Requirement already satisfied: fonttools>=4.22.0 in /home/celis/.local/lib/python3.11/site-packages (from matplotlib!=3.6.1,>=3.3->seaborn) (4.43.1)\n",
      "Requirement already satisfied: python-dateutil>=2.7 in /home/celis/.local/lib/python3.11/site-packages (from matplotlib!=3.6.1,>=3.3->seaborn) (2.8.2)\n",
      "Requirement already satisfied: tzdata>=2022.1 in /home/celis/.local/lib/python3.11/site-packages (from pandas>=1.2->seaborn) (2023.3)\n",
      "Requirement already satisfied: pytz>=2020.1 in /usr/lib/python3/dist-packages (from pandas>=1.2->seaborn) (2022.1)\n",
      "Requirement already satisfied: six>=1.5 in /usr/lib/python3/dist-packages (from python-dateutil>=2.7->matplotlib!=3.6.1,>=3.3->seaborn) (1.16.0)\n",
      "Note: you may need to restart the kernel to use updated packages.\n"
     ]
    }
   ],
   "source": [
    "!pip install seaborn"
   ]
  },
  {
   "cell_type": "markdown",
   "metadata": {},
   "source": [
    "# importado Seaborn"
   ]
  },
  {
   "cell_type": "code",
   "execution_count": 66,
   "metadata": {},
   "outputs": [],
   "source": [
    "import seaborn as sns"
   ]
  },
  {
   "cell_type": "code",
   "execution_count": 67,
   "metadata": {},
   "outputs": [
    {
     "name": "stdout",
     "output_type": "stream",
     "text": [
      "Name: seaborn\n",
      "Version: 0.13.0\n",
      "Summary: Statistical data visualization\n",
      "Home-page: \n",
      "Author: \n",
      "Author-email: Michael Waskom <mwaskom@gmail.com>\n",
      "License: \n",
      "Location: /home/celis/.local/lib/python3.10/site-packages\n",
      "Requires: matplotlib, numpy, pandas\n",
      "Required-by: \n"
     ]
    }
   ],
   "source": [
    "!pip show seaborn"
   ]
  },
  {
   "cell_type": "code",
   "execution_count": 68,
   "metadata": {},
   "outputs": [
    {
     "data": {
      "text/plain": [
       "(1500, 8)"
      ]
     },
     "execution_count": 68,
     "metadata": {},
     "output_type": "execute_result"
    }
   ],
   "source": [
    "tarjetas.shape"
   ]
  },
  {
   "cell_type": "code",
   "execution_count": 69,
   "metadata": {},
   "outputs": [
    {
     "data": {
      "text/html": [
       "<div>\n",
       "<style scoped>\n",
       "    .dataframe tbody tr th:only-of-type {\n",
       "        vertical-align: middle;\n",
       "    }\n",
       "\n",
       "    .dataframe tbody tr th {\n",
       "        vertical-align: top;\n",
       "    }\n",
       "\n",
       "    .dataframe thead th {\n",
       "        text-align: right;\n",
       "    }\n",
       "</style>\n",
       "<table border=\"1\" class=\"dataframe\">\n",
       "  <thead>\n",
       "    <tr style=\"text-align: right;\">\n",
       "      <th></th>\n",
       "      <th>limite</th>\n",
       "      <th>cuenta_corriente</th>\n",
       "      <th>escolaridad</th>\n",
       "      <th>estado_civil</th>\n",
       "      <th>edad</th>\n",
       "      <th>valor_factura</th>\n",
       "      <th>valor_pago</th>\n",
       "      <th>moroso</th>\n",
       "    </tr>\n",
       "  </thead>\n",
       "  <tbody>\n",
       "    <tr>\n",
       "      <th>0</th>\n",
       "      <td>6022</td>\n",
       "      <td>si</td>\n",
       "      <td>2.Universida</td>\n",
       "      <td>Casado/a</td>\n",
       "      <td>24</td>\n",
       "      <td>934.0122</td>\n",
       "      <td>0.0000</td>\n",
       "      <td>1</td>\n",
       "    </tr>\n",
       "    <tr>\n",
       "      <th>1</th>\n",
       "      <td>36132</td>\n",
       "      <td>si</td>\n",
       "      <td>2.Universida</td>\n",
       "      <td>Soltero/a</td>\n",
       "      <td>26</td>\n",
       "      <td>519.3975</td>\n",
       "      <td>0.0000</td>\n",
       "      <td>1</td>\n",
       "    </tr>\n",
       "    <tr>\n",
       "      <th>2</th>\n",
       "      <td>27099</td>\n",
       "      <td>si</td>\n",
       "      <td>2.Universida</td>\n",
       "      <td>Soltero/a</td>\n",
       "      <td>34</td>\n",
       "      <td>4223.5297</td>\n",
       "      <td>457.0698</td>\n",
       "      <td>0</td>\n",
       "    </tr>\n",
       "    <tr>\n",
       "      <th>3</th>\n",
       "      <td>15055</td>\n",
       "      <td>si</td>\n",
       "      <td>2.Universida</td>\n",
       "      <td>Casado/a</td>\n",
       "      <td>37</td>\n",
       "      <td>14522.9563</td>\n",
       "      <td>602.2000</td>\n",
       "      <td>0</td>\n",
       "    </tr>\n",
       "    <tr>\n",
       "      <th>4</th>\n",
       "      <td>150550</td>\n",
       "      <td>No</td>\n",
       "      <td>3.Pos-graduacion</td>\n",
       "      <td>Soltero/a</td>\n",
       "      <td>29</td>\n",
       "      <td>124060.1253</td>\n",
       "      <td>16560.5000</td>\n",
       "      <td>0</td>\n",
       "    </tr>\n",
       "  </tbody>\n",
       "</table>\n",
       "</div>"
      ],
      "text/plain": [
       "   limite cuenta_corriente       escolaridad estado_civil  edad  \\\n",
       "0    6022               si      2.Universida     Casado/a    24   \n",
       "1   36132               si      2.Universida    Soltero/a    26   \n",
       "2   27099               si      2.Universida    Soltero/a    34   \n",
       "3   15055               si      2.Universida     Casado/a    37   \n",
       "4  150550               No  3.Pos-graduacion    Soltero/a    29   \n",
       "\n",
       "   valor_factura  valor_pago  moroso  \n",
       "0       934.0122      0.0000       1  \n",
       "1       519.3975      0.0000       1  \n",
       "2      4223.5297    457.0698       0  \n",
       "3     14522.9563    602.2000       0  \n",
       "4    124060.1253  16560.5000       0  "
      ]
     },
     "execution_count": 69,
     "metadata": {},
     "output_type": "execute_result"
    }
   ],
   "source": [
    "tarjetas.head()"
   ]
  },
  {
   "cell_type": "markdown",
   "metadata": {},
   "source": [
    "# Analisis 1"
   ]
  },
  {
   "cell_type": "code",
   "execution_count": 70,
   "metadata": {},
   "outputs": [
    {
     "name": "stderr",
     "output_type": "stream",
     "text": [
      "/tmp/ipykernel_245/2596449729.py:1: UserWarning: \n",
      "\n",
      "`distplot` is a deprecated function and will be removed in seaborn v0.14.0.\n",
      "\n",
      "Please adapt your code to use either `displot` (a figure-level function with\n",
      "similar flexibility) or `histplot` (an axes-level function for histograms).\n",
      "\n",
      "For a guide to updating your code to use the new functions, please see\n",
      "https://gist.github.com/mwaskom/de44147ed2974457ad6372750bbe5751\n",
      "\n",
      "  sns.distplot(tarjetas[\"limite\"])\n"
     ]
    },
    {
     "data": {
      "text/plain": [
       "<Axes: xlabel='limite', ylabel='Density'>"
      ]
     },
     "execution_count": 70,
     "metadata": {},
     "output_type": "execute_result"
    },
    {
     "data": {
      "image/png": "[encoded data removed]",
      "text/plain": [
       "<Figure size 640x480 with 1 Axes>"
      ]
     },
     "metadata": {},
     "output_type": "display_data"
    }
   ],
   "source": [
    "sns.distplot(tarjetas[\"limite\"])"
   ]
  },
  {
   "cell_type": "code",
   "execution_count": 71,
   "metadata": {},
   "outputs": [
    {
     "data": {
      "image/png": "[encoded data removed]",
      "text/plain": [
       "<Figure size 669.75x500 with 1 Axes>"
      ]
     },
     "metadata": {},
     "output_type": "display_data"
    }
   ],
   "source": [
    "sns.displot(data=tarjetas, x='limite', hue=\"escolaridad\");"
   ]
  },
  {
   "cell_type": "markdown",
   "metadata": {},
   "source": [
    "# Analisis 2"
   ]
  },
  {
   "cell_type": "code",
   "execution_count": 78,
   "metadata": {},
   "outputs": [],
   "source": [
    "tarjetas[\"iu\"] = (tarjetas[\"valor_factura\"] / tarjetas[\"limite\"])"
   ]
  },
  {
   "cell_type": "code",
   "execution_count": 79,
   "metadata": {},
   "outputs": [
    {
     "data": {
      "text/html": [
       "<div>\n",
       "<style scoped>\n",
       "    .dataframe tbody tr th:only-of-type {\n",
       "        vertical-align: middle;\n",
       "    }\n",
       "\n",
       "    .dataframe tbody tr th {\n",
       "        vertical-align: top;\n",
       "    }\n",
       "\n",
       "    .dataframe thead th {\n",
       "        text-align: right;\n",
       "    }\n",
       "</style>\n",
       "<table border=\"1\" class=\"dataframe\">\n",
       "  <thead>\n",
       "    <tr style=\"text-align: right;\">\n",
       "      <th></th>\n",
       "      <th>limite</th>\n",
       "      <th>cuenta_corriente</th>\n",
       "      <th>escolaridad</th>\n",
       "      <th>estado_civil</th>\n",
       "      <th>edad</th>\n",
       "      <th>valor_factura</th>\n",
       "      <th>valor_pago</th>\n",
       "      <th>moroso</th>\n",
       "      <th>iu</th>\n",
       "    </tr>\n",
       "  </thead>\n",
       "  <tbody>\n",
       "    <tr>\n",
       "      <th>0</th>\n",
       "      <td>6022</td>\n",
       "      <td>si</td>\n",
       "      <td>2.Universida</td>\n",
       "      <td>Casado/a</td>\n",
       "      <td>24</td>\n",
       "      <td>934.0122</td>\n",
       "      <td>0.0000</td>\n",
       "      <td>1</td>\n",
       "      <td>0.155100</td>\n",
       "    </tr>\n",
       "    <tr>\n",
       "      <th>1</th>\n",
       "      <td>36132</td>\n",
       "      <td>si</td>\n",
       "      <td>2.Universida</td>\n",
       "      <td>Soltero/a</td>\n",
       "      <td>26</td>\n",
       "      <td>519.3975</td>\n",
       "      <td>0.0000</td>\n",
       "      <td>1</td>\n",
       "      <td>0.014375</td>\n",
       "    </tr>\n",
       "    <tr>\n",
       "      <th>2</th>\n",
       "      <td>27099</td>\n",
       "      <td>si</td>\n",
       "      <td>2.Universida</td>\n",
       "      <td>Soltero/a</td>\n",
       "      <td>34</td>\n",
       "      <td>4223.5297</td>\n",
       "      <td>457.0698</td>\n",
       "      <td>0</td>\n",
       "      <td>0.155856</td>\n",
       "    </tr>\n",
       "    <tr>\n",
       "      <th>3</th>\n",
       "      <td>15055</td>\n",
       "      <td>si</td>\n",
       "      <td>2.Universida</td>\n",
       "      <td>Casado/a</td>\n",
       "      <td>37</td>\n",
       "      <td>14522.9563</td>\n",
       "      <td>602.2000</td>\n",
       "      <td>0</td>\n",
       "      <td>0.964660</td>\n",
       "    </tr>\n",
       "    <tr>\n",
       "      <th>4</th>\n",
       "      <td>150550</td>\n",
       "      <td>No</td>\n",
       "      <td>3.Pos-graduacion</td>\n",
       "      <td>Soltero/a</td>\n",
       "      <td>29</td>\n",
       "      <td>124060.1253</td>\n",
       "      <td>16560.5000</td>\n",
       "      <td>0</td>\n",
       "      <td>0.824046</td>\n",
       "    </tr>\n",
       "  </tbody>\n",
       "</table>\n",
       "</div>"
      ],
      "text/plain": [
       "   limite cuenta_corriente       escolaridad estado_civil  edad  \\\n",
       "0    6022               si      2.Universida     Casado/a    24   \n",
       "1   36132               si      2.Universida    Soltero/a    26   \n",
       "2   27099               si      2.Universida    Soltero/a    34   \n",
       "3   15055               si      2.Universida     Casado/a    37   \n",
       "4  150550               No  3.Pos-graduacion    Soltero/a    29   \n",
       "\n",
       "   valor_factura  valor_pago  moroso        iu  \n",
       "0       934.0122      0.0000       1  0.155100  \n",
       "1       519.3975      0.0000       1  0.014375  \n",
       "2      4223.5297    457.0698       0  0.155856  \n",
       "3     14522.9563    602.2000       0  0.964660  \n",
       "4    124060.1253  16560.5000       0  0.824046  "
      ]
     },
     "execution_count": 79,
     "metadata": {},
     "output_type": "execute_result"
    }
   ],
   "source": [
    "tarjetas.head()"
   ]
  },
  {
   "cell_type": "code",
   "execution_count": 80,
   "metadata": {},
   "outputs": [
    {
     "data": {
      "text/plain": [
       "<seaborn.axisgrid.FacetGrid at 0x7fa947a16e10>"
      ]
     },
     "execution_count": 80,
     "metadata": {},
     "output_type": "execute_result"
    },
    {
     "data": {
      "image/png": "[encoded data removed]",
      "text/plain": [
       "<Figure size 500x500 with 1 Axes>"
      ]
     },
     "metadata": {},
     "output_type": "display_data"
    }
   ],
   "source": [
    "sns.displot(data=tarjetas, x=\"iu\")"
   ]
  },
  {
   "cell_type": "markdown",
   "metadata": {},
   "source": [
    "Hay un publico significativo que usa poco el limite que tiene disponible"
   ]
  },
  {
   "cell_type": "code",
   "execution_count": 98,
   "metadata": {},
   "outputs": [
    {
     "data": {
      "image/png": "[encoded data removed]",
      "text/plain": [
       "<Figure size 669.75x500 with 1 Axes>"
      ]
     },
     "metadata": {},
     "output_type": "display_data"
    }
   ],
   "source": [
    "sns.displot(data=tarjetas, x='limite', hue=\"escolaridad\", palette= \"inferno_r\"); # _r invierte los colores"
   ]
  }
 ],
 "metadata": {
  "kernelspec": {
   "display_name": "Python 3",
   "language": "python",
   "name": "python3"
  },
  "language_info": {
   "codemirror_mode": {
    "name": "ipython",
    "version": 3
   },
   "file_extension": ".py",
   "mimetype": "text/x-python",
   "name": "python",
   "nbconvert_exporter": "python",
   "pygments_lexer": "ipython3",
   "version": "3.11.0rc1"
  }
 },
 "nbformat": 4,
 "nbformat_minor": 2
}
